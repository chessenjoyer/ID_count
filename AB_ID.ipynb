{
 "cells": [
  {
   "cell_type": "code",
   "execution_count": 1,
   "id": "2d46cb4e",
   "metadata": {},
   "outputs": [],
   "source": [
    "import numpy as np\n",
    "#Функция для подсчета суммы цифр числа\n",
    "def sum_of_digits(num):\n",
    "    sum = 0\n",
    "    while num > 0:\n",
    "        sum += num % 10\n",
    "        num //= 10\n",
    "    return sum\n",
    "\n",
    "\n",
    "def AB_Splitting(n_customers):\n",
    "    #Максимальный номер класса 9*7 = 63\n",
    "    classes = np.zeros(64,dtype = int)\n",
    "    # Стартуем с 10000, так как первое пятизначное число\n",
    "    for i in range(10000,10000 + n_customers):\n",
    "        sum = sum_of_digits(i)\n",
    "        classes[sum] += 1\n",
    "    return classes    "
   ]
  },
  {
   "cell_type": "code",
   "execution_count": 2,
   "id": "9345dbe8",
   "metadata": {},
   "outputs": [
    {
     "name": "stdout",
     "output_type": "stream",
     "text": [
      "--- 12.39718246459961 seconds ---\n"
     ]
    }
   ],
   "source": [
    "import time\n",
    "start_time = time.time()\n",
    "#Довожу до последнего семизначного id и смотрю время выполнения\n",
    "classes = AB_Splitting(9990000)\n",
    "print(\"--- %s seconds ---\" % (time.time() - start_time))\n"
   ]
  },
  {
   "cell_type": "code",
   "execution_count": 3,
   "id": "138e51a8",
   "metadata": {},
   "outputs": [
    {
     "name": "stdout",
     "output_type": "stream",
     "text": [
      "0  класс 0\n",
      "1  класс 3\n",
      "2  класс 18\n",
      "3  класс 64\n",
      "4  класс 175\n",
      "5  класс 406\n",
      "6  класс 840\n",
      "7  класс 1596\n",
      "8  класс 2838\n",
      "9  класс 4785\n",
      "10  класс 7719\n",
      "11  класс 11979\n",
      "12  класс 17953\n",
      "13  класс 26064\n",
      "14  класс 36750\n",
      "15  класс 50438\n",
      "16  класс 67512\n",
      "17  класс 88275\n",
      "18  класс 112905\n",
      "19  класс 141405\n",
      "20  класс 173562\n",
      "21  класс 208933\n",
      "22  класс 246840\n",
      "23  класс 286380\n",
      "24  класс 326450\n",
      "25  класс 365787\n",
      "26  класс 403023\n",
      "27  класс 436755\n",
      "28  класс 465630\n",
      "29  класс 488445\n",
      "30  класс 504231\n",
      "31  класс 512309\n",
      "32  класс 512330\n",
      "33  класс 504295\n",
      "34  класс 488555\n",
      "35  класс 465791\n",
      "36  класс 436974\n",
      "37  класс 403305\n",
      "38  класс 366135\n",
      "39  класс 326865\n",
      "40  класс 286860\n",
      "41  класс 247380\n",
      "42  класс 209525\n",
      "43  класс 174195\n",
      "44  класс 142065\n",
      "45  класс 113575\n",
      "46  класс 88935\n",
      "47  класс 68145\n",
      "48  класс 51030\n",
      "49  класс 37290\n",
      "50  класс 26544\n",
      "51  класс 18368\n",
      "52  класс 12327\n",
      "53  класс 8001\n",
      "54  класс 5005\n",
      "55  класс 3003\n",
      "56  класс 1716\n",
      "57  класс 924\n",
      "58  класс 462\n",
      "59  класс 210\n",
      "60  класс 84\n",
      "61  класс 28\n",
      "62  класс 7\n",
      "63  класс 1\n"
     ]
    }
   ],
   "source": [
    "for i in range(len(classes)):\n",
    "    print(i,' класс', classes[i])"
   ]
  },
  {
   "cell_type": "code",
   "execution_count": 4,
   "id": "a1be62ee",
   "metadata": {},
   "outputs": [
    {
     "data": {
      "text/plain": [
       "[<matplotlib.lines.Line2D at 0x23fd298ff40>]"
      ]
     },
     "execution_count": 4,
     "metadata": {},
     "output_type": "execute_result"
    },
    {
     "data": {
      "image/png": "[encoded data removed]",
      "text/plain": [
       "<Figure size 432x288 with 1 Axes>"
      ]
     },
     "metadata": {
      "needs_background": "light"
     },
     "output_type": "display_data"
    }
   ],
   "source": [
    "import matplotlib.pyplot as plt\n",
    "\n",
    "plt.plot([i for i in range(64)], classes)\n",
    "# Получилось нормальное распределение"
   ]
  },
  {
   "cell_type": "code",
   "execution_count": 5,
   "id": "0e996dc5",
   "metadata": {},
   "outputs": [],
   "source": [
    "def AB_Splitting_2(n_customers,start_num):\n",
    "    #Максимальный номер класса 9*7 = 63\n",
    "    classes = np.zeros(64,dtype = int)\n",
    "    #Начинаем со start_num\n",
    "    for i in range(start_num,start_num + n_customers):\n",
    "        sum = sum_of_digits(i)\n",
    "        classes[sum] += 1\n",
    "    return classes      "
   ]
  },
  {
   "cell_type": "code",
   "execution_count": 6,
   "id": "61204f32",
   "metadata": {},
   "outputs": [],
   "source": [
    "classes = AB_Splitting_2(100000,444444)"
   ]
  },
  {
   "cell_type": "code",
   "execution_count": 7,
   "id": "2853db8d",
   "metadata": {},
   "outputs": [
    {
     "name": "stdout",
     "output_type": "stream",
     "text": [
      "0  класс 0\n",
      "1  класс 0\n",
      "2  класс 0\n",
      "3  класс 0\n",
      "4  класс 0\n",
      "5  класс 1\n",
      "6  класс 5\n",
      "7  класс 15\n",
      "8  класс 35\n",
      "9  класс 71\n",
      "10  класс 130\n",
      "11  класс 220\n",
      "12  класс 350\n",
      "13  класс 531\n",
      "14  класс 773\n",
      "15  класс 1082\n",
      "16  класс 1460\n",
      "17  класс 1906\n",
      "18  класс 2412\n",
      "19  класс 2964\n",
      "20  класс 3544\n",
      "21  класс 4131\n",
      "22  класс 4696\n",
      "23  класс 5208\n",
      "24  класс 5638\n",
      "25  класс 5959\n",
      "26  класс 6155\n",
      "27  класс 6213\n",
      "28  класс 6131\n",
      "29  класс 5915\n",
      "30  класс 5576\n",
      "31  класс 5134\n",
      "32  класс 4614\n",
      "33  класс 4047\n",
      "34  класс 3463\n",
      "35  класс 2888\n",
      "36  класс 2345\n",
      "37  класс 1851\n",
      "38  класс 1417\n",
      "39  класс 1049\n",
      "40  класс 749\n",
      "41  класс 515\n",
      "42  класс 340\n",
      "43  класс 214\n",
      "44  класс 127\n",
      "45  класс 70\n",
      "46  класс 35\n",
      "47  класс 15\n",
      "48  класс 5\n",
      "49  класс 1\n",
      "50  класс 0\n",
      "51  класс 0\n",
      "52  класс 0\n",
      "53  класс 0\n",
      "54  класс 0\n",
      "55  класс 0\n",
      "56  класс 0\n",
      "57  класс 0\n",
      "58  класс 0\n",
      "59  класс 0\n",
      "60  класс 0\n",
      "61  класс 0\n",
      "62  класс 0\n",
      "63  класс 0\n"
     ]
    }
   ],
   "source": [
    "for i in range(len(classes)):\n",
    "    print(i,' класс', classes[i])"
   ]
  },
  {
   "cell_type": "code",
   "execution_count": 8,
   "id": "d38c370d",
   "metadata": {},
   "outputs": [
    {
     "data": {
      "text/plain": [
       "[<matplotlib.lines.Line2D at 0x23fd4a82370>]"
      ]
     },
     "execution_count": 8,
     "metadata": {},
     "output_type": "execute_result"
    },
    {
     "data": {
      "image/png": "[encoded data removed]",
      "text/plain": [
       "<Figure size 432x288 with 1 Axes>"
      ]
     },
     "metadata": {
      "needs_background": "light"
     },
     "output_type": "display_data"
    }
   ],
   "source": [
    "import matplotlib.pyplot as plt\n",
    "\n",
    "plt.plot([i for i in range(64)], classes)\n"
   ]
  },
  {
   "cell_type": "code",
   "execution_count": null,
   "id": "9d8f3578",
   "metadata": {},
   "outputs": [],
   "source": []
  }
 ],
 "metadata": {
  "kernelspec": {
   "display_name": "Python 3 (ipykernel)",
   "language": "python",
   "name": "python3"
  },
  "language_info": {
   "codemirror_mode": {
    "name": "ipython",
    "version": 3
   },
   "file_extension": ".py",
   "mimetype": "text/x-python",
   "name": "python",
   "nbconvert_exporter": "python",
   "pygments_lexer": "ipython3",
   "version": "3.8.8"
  }
 },
 "nbformat": 4,
 "nbformat_minor": 5
}
