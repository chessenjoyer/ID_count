{
 "cells": [
  {
   "cell_type": "code",
   "execution_count": 77,
   "id": "45b8d962",
   "metadata": {},
   "outputs": [],
   "source": [
    "import numpy as np\n",
    "def start_from_0_customers(n):\n",
    "    #Представляю id как массив \n",
    "    number = np.array([0,0,0,0,0,0,0])\n",
    "    #Массив количества классов\n",
    "    k = np.zeros(63,dtype = int)\n",
    "    \n",
    "    for i in range (n):\n",
    "        #Начинаем с \"первого\" элемента\n",
    "        razryad = 6\n",
    "# razryad = 6\n",
    "        if number[razryad] == 9:\n",
    "        #Если переполнение, то сдвигаемся на разряд влево\n",
    "            number[razryad] = 0\n",
    "            razryad -=1\n",
    "        else:\n",
    "        #Иначе прибавляем единичку к id и добавляю +1 в массив классов\n",
    "        #Дальнейшее аналогично\n",
    "            number[razryad] +=1\n",
    "            k[np.sum(number)-1] +=1\n",
    "            continue\n",
    "# razryad = 5\n",
    "        if number[razryad] == 9:\n",
    "            number[razryad] = 0\n",
    "            razryad -=1\n",
    "        else:\n",
    "            number[razryad] +=1\n",
    "            k[np.sum(number)-1] +=1\n",
    "            continue\n",
    "# razryad = 4\n",
    "        if number[razryad] == 9:\n",
    "            number[razryad] = 0\n",
    "            razryad -=1\n",
    "        else:\n",
    "            number[razryad] +=1\n",
    "            k[np.sum(number)-1] +=1\n",
    "            continue\n",
    "# razryad = 3\n",
    "        if number[razryad] == 9:\n",
    "            number[razryad] = 0\n",
    "            razryad -=1\n",
    "        else:\n",
    "            number[razryad] +=1\n",
    "            k[np.sum(number)-1] +=1\n",
    "            continue\n",
    "# razryad = 2\n",
    "        if number[razryad] == 9:\n",
    "            number[razryad] = 0\n",
    "            razryad -=1\n",
    "        else:\n",
    "            number[razryad] +=1\n",
    "            k[np.sum(number)-1] +=1\n",
    "            continue\n",
    "# razryad = 1\n",
    "        if number[razryad] == 9:\n",
    "            number[razryad] = 0\n",
    "            razryad -=1\n",
    "        else:\n",
    "            number[razryad] +=1\n",
    "            k[np.sum(number)-1] +=1\n",
    "            continue\n",
    "# razryad = 0\n",
    "        if number[razryad] == 9:\n",
    "            print('overflow')\n",
    "            break\n",
    "        else:\n",
    "            number[razryad] +=1\n",
    "            k[np.sum(number)-1] +=1\n",
    "            continue\n",
    "            \n",
    "            \n",
    "    return number,k\n",
    "            \n",
    "        "
   ]
  },
  {
   "cell_type": "code",
   "execution_count": 78,
   "id": "daa9975b",
   "metadata": {},
   "outputs": [
    {
     "name": "stdout",
     "output_type": "stream",
     "text": [
      "--- 46.68924045562744 seconds ---\n"
     ]
    }
   ],
   "source": [
    "import time\n",
    "start_time = time.time()\n",
    "n, k = start_from_0_customers(9999999)\n",
    "print(\"--- %s seconds ---\" % (time.time() - start_time))\n",
    "\n",
    "# В самом худшем случае, когда все id заняты, производительность 47 секунд"
   ]
  },
  {
   "cell_type": "code",
   "execution_count": 81,
   "id": "f59ef898",
   "metadata": {},
   "outputs": [
    {
     "data": {
      "text/plain": [
       "array([9, 9, 9, 9, 9, 9, 9])"
      ]
     },
     "execution_count": 81,
     "metadata": {},
     "output_type": "execute_result"
    }
   ],
   "source": [
    "n"
   ]
  },
  {
   "cell_type": "code",
   "execution_count": 82,
   "id": "532b9128",
   "metadata": {},
   "outputs": [
    {
     "name": "stdout",
     "output_type": "stream",
     "text": [
      "1  класс 7\n",
      "2  класс 28\n",
      "3  класс 84\n",
      "4  класс 210\n",
      "5  класс 462\n",
      "6  класс 924\n",
      "7  класс 1716\n",
      "8  класс 3003\n",
      "9  класс 5005\n",
      "10  класс 8001\n",
      "11  класс 12327\n",
      "12  класс 18368\n",
      "13  класс 26544\n",
      "14  класс 37290\n",
      "15  класс 51030\n",
      "16  класс 68145\n",
      "17  класс 88935\n",
      "18  класс 113575\n",
      "19  класс 142065\n",
      "20  класс 174195\n",
      "21  класс 209525\n",
      "22  класс 247380\n",
      "23  класс 286860\n",
      "24  класс 326865\n",
      "25  класс 366135\n",
      "26  класс 403305\n",
      "27  класс 436975\n",
      "28  класс 465795\n",
      "29  класс 488565\n",
      "30  класс 504315\n",
      "31  класс 512365\n",
      "32  класс 512365\n",
      "33  класс 504315\n",
      "34  класс 488565\n",
      "35  класс 465795\n",
      "36  класс 436975\n",
      "37  класс 403305\n",
      "38  класс 366135\n",
      "39  класс 326865\n",
      "40  класс 286860\n",
      "41  класс 247380\n",
      "42  класс 209525\n",
      "43  класс 174195\n",
      "44  класс 142065\n",
      "45  класс 113575\n",
      "46  класс 88935\n",
      "47  класс 68145\n",
      "48  класс 51030\n",
      "49  класс 37290\n",
      "50  класс 26544\n",
      "51  класс 18368\n",
      "52  класс 12327\n",
      "53  класс 8001\n",
      "54  класс 5005\n",
      "55  класс 3003\n",
      "56  класс 1716\n",
      "57  класс 924\n",
      "58  класс 462\n",
      "59  класс 210\n",
      "60  класс 84\n",
      "61  класс 28\n",
      "62  класс 7\n",
      "63  класс 1\n"
     ]
    }
   ],
   "source": [
    "for i in range(len(k)):\n",
    "    print(i+1,' класс', k[i])"
   ]
  },
  {
   "cell_type": "code",
   "execution_count": 84,
   "id": "ab136f6b",
   "metadata": {},
   "outputs": [
    {
     "data": {
      "text/plain": [
       "[<matplotlib.lines.Line2D at 0x13efa68e910>]"
      ]
     },
     "execution_count": 84,
     "metadata": {},
     "output_type": "execute_result"
    },
    {
     "data": {
      "image/png": "[encoded data removed]",
      "text/plain": [
       "<Figure size 432x288 with 1 Axes>"
      ]
     },
     "metadata": {
      "needs_background": "light"
     },
     "output_type": "display_data"
    }
   ],
   "source": [
    "import matplotlib.pyplot as plt\n",
    "\n",
    "plt.plot([i for i in range(63)], k)\n",
    "\n",
    "#Получилось нормальное распределение"
   ]
  },
  {
   "cell_type": "code",
   "execution_count": 68,
   "id": "1dedb72d",
   "metadata": {},
   "outputs": [],
   "source": [
    "#Ничего не меняется, кроме того, что вводим номер x сначала как строку и преобразуем его в массив\n",
    "import numpy as np\n",
    "def start_from_x_customers(n,x):\n",
    "    result = [int(item) for item in x]\n",
    "    number = np.array(result)\n",
    "    k = np.zeros(63,dtype = int)\n",
    "    for i in range (n):\n",
    "        razryad = 6\n",
    "# razryad = 6\n",
    "        if number[razryad] == 9:\n",
    "            number[razryad] = 0\n",
    "            razryad -=1\n",
    "        else:\n",
    "            number[razryad] +=1\n",
    "            k[np.sum(number)-1] +=1\n",
    "            continue\n",
    "# razryad = 5\n",
    "        if number[razryad] == 9:\n",
    "            number[razryad] = 0\n",
    "            razryad -=1\n",
    "        else:\n",
    "            number[razryad] +=1\n",
    "            k[np.sum(number)-1] +=1\n",
    "            continue\n",
    "# razryad = 4\n",
    "        if number[razryad] == 9:\n",
    "            number[razryad] = 0\n",
    "            razryad -=1\n",
    "        else:\n",
    "            number[razryad] +=1\n",
    "            k[np.sum(number)-1] +=1\n",
    "            continue\n",
    "# razryad = 3\n",
    "        if number[razryad] == 9:\n",
    "            number[razryad] = 0\n",
    "            razryad -=1\n",
    "        else:\n",
    "            number[razryad] +=1\n",
    "            k[np.sum(number)-1] +=1\n",
    "            continue\n",
    "# razryad = 2\n",
    "        if number[razryad] == 9:\n",
    "            number[razryad] = 0\n",
    "            razryad -=1\n",
    "        else:\n",
    "            number[razryad] +=1\n",
    "            k[np.sum(number)-1] +=1\n",
    "            continue\n",
    "# razryad = 1\n",
    "        if number[razryad] == 9:\n",
    "            number[razryad] = 0\n",
    "            razryad -=1\n",
    "        else:\n",
    "            number[razryad] +=1\n",
    "            k[np.sum(number)-1] +=1\n",
    "            continue\n",
    "# razryad = 0\n",
    "        if number[razryad] == 9:\n",
    "            print('overflow')\n",
    "            break\n",
    "        else:\n",
    "            number[razryad] +=1\n",
    "            k[np.sum(number)-1] +=1\n",
    "            continue\n",
    "            \n",
    "            \n",
    "    return number,k\n",
    "            \n",
    "        "
   ]
  },
  {
   "cell_type": "code",
   "execution_count": 89,
   "id": "5cd48790",
   "metadata": {},
   "outputs": [],
   "source": [
    "n, k = start_from_x_customers(420000,'0350211')"
   ]
  },
  {
   "cell_type": "code",
   "execution_count": 90,
   "id": "69049b01",
   "metadata": {},
   "outputs": [
    {
     "data": {
      "text/plain": [
       "array([0, 7, 7, 0, 2, 1, 1])"
      ]
     },
     "execution_count": 90,
     "metadata": {},
     "output_type": "execute_result"
    }
   ],
   "source": [
    "n"
   ]
  },
  {
   "cell_type": "code",
   "execution_count": 91,
   "id": "589ccafe",
   "metadata": {},
   "outputs": [
    {
     "name": "stdout",
     "output_type": "stream",
     "text": [
      "1  класс 0\n",
      "2  класс 0\n",
      "3  класс 0\n",
      "4  класс 1\n",
      "5  класс 6\n",
      "6  класс 21\n",
      "7  класс 56\n",
      "8  класс 125\n",
      "9  класс 248\n",
      "10  класс 450\n",
      "11  класс 762\n",
      "12  класс 1220\n",
      "13  класс 1863\n",
      "14  класс 2727\n",
      "15  класс 3843\n",
      "16  класс 5229\n",
      "17  класс 6886\n",
      "18  класс 8797\n",
      "19  класс 10924\n",
      "20  класс 13210\n",
      "21  класс 15574\n",
      "22  класс 17919\n",
      "23  класс 20131\n",
      "24  класс 22092\n",
      "25  класс 23694\n",
      "26  класс 24848\n",
      "27  класс 25490\n",
      "28  класс 25582\n",
      "29  класс 25118\n",
      "30  класс 24123\n",
      "31  класс 22651\n",
      "32  класс 20786\n",
      "33  класс 18636\n",
      "34  класс 16318\n",
      "35  класс 13946\n",
      "36  класс 11621\n",
      "37  класс 9429\n",
      "38  класс 7436\n",
      "39  класс 5688\n",
      "40  класс 4211\n",
      "41  класс 3011\n",
      "42  класс 2074\n",
      "43  класс 1370\n",
      "44  класс 862\n",
      "45  класс 511\n",
      "46  класс 281\n",
      "47  класс 140\n",
      "48  класс 61\n",
      "49  класс 22\n",
      "50  класс 6\n",
      "51  класс 1\n",
      "52  класс 0\n",
      "53  класс 0\n",
      "54  класс 0\n",
      "55  класс 0\n",
      "56  класс 0\n",
      "57  класс 0\n",
      "58  класс 0\n",
      "59  класс 0\n",
      "60  класс 0\n",
      "61  класс 0\n",
      "62  класс 0\n",
      "63  класс 0\n"
     ]
    }
   ],
   "source": [
    "for i in range(len(k)):\n",
    "    print(i+1,' класс', k[i])"
   ]
  },
  {
   "cell_type": "code",
   "execution_count": 92,
   "id": "8eb6c044",
   "metadata": {},
   "outputs": [
    {
     "data": {
      "text/plain": [
       "[<matplotlib.lines.Line2D at 0x13efa743df0>]"
      ]
     },
     "execution_count": 92,
     "metadata": {},
     "output_type": "execute_result"
    },
    {
     "data": {
      "image/png": "[encoded data removed]",
      "text/plain": [
       "<Figure size 432x288 with 1 Axes>"
      ]
     },
     "metadata": {
      "needs_background": "light"
     },
     "output_type": "display_data"
    }
   ],
   "source": [
    "import matplotlib.pyplot as plt\n",
    "\n",
    "plt.plot([i for i in range(63)], k)\n",
    "\n"
   ]
  },
  {
   "cell_type": "code",
   "execution_count": null,
   "id": "5ccf2c86",
   "metadata": {},
   "outputs": [],
   "source": []
  }
 ],
 "metadata": {
  "kernelspec": {
   "display_name": "Python 3 (ipykernel)",
   "language": "python",
   "name": "python3"
  },
  "language_info": {
   "codemirror_mode": {
    "name": "ipython",
    "version": 3
   },
   "file_extension": ".py",
   "mimetype": "text/x-python",
   "name": "python",
   "nbconvert_exporter": "python",
   "pygments_lexer": "ipython3",
   "version": "3.8.8"
  }
 },
 "nbformat": 4,
 "nbformat_minor": 5
}
